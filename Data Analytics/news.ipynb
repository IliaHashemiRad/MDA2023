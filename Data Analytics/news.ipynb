{
 "cells": [
  {
   "cell_type": "markdown",
   "id": "262a1420",
   "metadata": {},
   "source": [
    "# Data Mining Course Spark Exercise\n",
    "## Sharif University of Technology\n",
    "\n",
    "In this notebook we are going to analyze farsi news. \n",
    "\n",
    "## Warning: RDD api only\n",
    "You **can not** use Dataframe, Dataset, mllib, ml, ... apis of spark in this exercise. You should only use the [RDD api](http://spark.apache.org/docs/2.1.0/api/python/pyspark.html#pyspark.RDD)."
   ]
  },
  {
   "cell_type": "markdown",
   "id": "75576da1",
   "metadata": {},
   "source": [
    "# Please enter your name below:\n",
    "# Name: Ilia Hashemi Rad\n",
    "# Student Number: 99102456"
   ]
  },
  {
   "cell_type": "markdown",
   "id": "51d038ab",
   "metadata": {},
   "source": [
    "# Section 1: Dataset prepartition\n",
    "This section you need to download [dataset](https://drive.google.com/file/d/1bRxHQDzPr6wDimbM7b89H47kH8O3YV8Y/view?usp=sharing) in a directory you work. After that run the below cell to untar the datase.\n",
    "\n",
    "**Note 1: Don't change the below command.**\n",
    "\n",
    "**Note 2: If you use Windows OS, unzip the dataset manually.**"
   ]
  },
  {
   "cell_type": "markdown",
   "id": "04b0ae4f",
   "metadata": {},
   "source": [
    "## Install Pypark & Initialization\n",
    "Uncomment this section if you use google colab or local pc"
   ]
  },
  {
   "cell_type": "code",
   "execution_count": 1,
   "id": "237c3551",
   "metadata": {
    "ExecuteTime": {
     "end_time": "2023-12-12T16:05:45.526929200Z",
     "start_time": "2023-12-12T16:05:42.978876400Z"
    }
   },
   "outputs": [],
   "source": [
    "#! pip install pyspark"
   ]
  },
  {
   "cell_type": "code",
   "execution_count": 1,
   "id": "3706a8d1",
   "metadata": {
    "ExecuteTime": {
     "end_time": "2023-12-12T16:12:02.175712800Z",
     "start_time": "2023-12-12T16:12:02.151692900Z"
    }
   },
   "outputs": [
    {
     "name": "stderr",
     "output_type": "stream",
     "text": [
      "Setting default log level to \"WARN\".\n",
      "To adjust logging level use sc.setLogLevel(newLevel). For SparkR, use setLogLevel(newLevel).\n",
      "24/02/06 12:32:27 WARN NativeCodeLoader: Unable to load native-hadoop library for your platform... using builtin-java classes where applicable\n",
      "24/02/06 12:32:27 WARN Utils: Service 'SparkUI' could not bind on port 4040. Attempting port 4041.\n"
     ]
    }
   ],
   "source": [
    "from pyspark.sql import SparkSession\n",
    "spark = SparkSession \\\n",
    "    .builder \\\n",
    "    .appName(\"HW1\") \\\n",
    "    .master(\"local[*]\") \\\n",
    "    .getOrCreate()\n",
    "\n",
    "sc=spark.sparkContext"
   ]
  },
  {
   "cell_type": "markdown",
   "id": "13157b6b",
   "metadata": {},
   "source": [
    "# Reading the data"
   ]
  },
  {
   "cell_type": "code",
   "execution_count": 5,
   "id": "2a2f4ee5",
   "metadata": {
    "ExecuteTime": {
     "end_time": "2023-12-12T16:12:05.161759700Z",
     "start_time": "2023-12-12T16:12:04.743641Z"
    }
   },
   "outputs": [
    {
     "name": "stderr",
     "output_type": "stream",
     "text": [
      "                                                                                \r"
     ]
    },
    {
     "data": {
      "text/plain": [
       "[{'body': 'پایگاه اطلاع رسانی دفتر مقام معظم رهبری : مراسم مشترک دانشآموختگی دانشجویان نیروهای مسلح با حضور فرمانده کل قوا برگزار شد.\\n\\nمراسم مشترک دانشآموختگی دانشجویان دانشگاههای افسری نیروهای مسلح صبح امروز (سهشنبه) با حضور حضرت آیتالله خامنهای فرمانده معظم کل قوا در دانشگاه امام علی(علیهالسلام) برگزار شد.\\n\\nمشروح خبر و تصاویر تکمیلی متعاقباً منتشر میشود.',\n",
       "  'image_title_url': 'https://cdn.donya-e-eqtesad.com/thumbnail/Y7uQjkb1l3WU/QHn8O9nsSzT8qCU7RegsN6Pbb5v74eEtbKeSOh05RaZ4WjlowgHONkt7TZyzEhnm/yDtY1ht4U6UN.jpg',\n",
       "  'language': 'fa',\n",
       "  'source': 'روزنامه دنیای اقتصاد',\n",
       "  'title': 'حضور رهبر انقلاب در مراسم مشترک دانش\\u200cآموختگی دانشجویان نیروهای مسلح',\n",
       "  'date_published': 1696910727,\n",
       "  'uid': '1578b7b6918d302d3f69731f2',\n",
       "  'url': 'https://donya-e-eqtesad.com/بخش-%D8%B3%D8%A7%DB%8C%D8%AA-%D8%AE%D9%88%D8%A7%D9%86-62/4009393-%D8%AD%D8%B6%D9%88%D8%B1-%D8%B1%D9%87%D8%A8%D8%B1-%D8%A7%D9%86%D9%82%D9%84%D8%A7%D8%A8-%D8%AF%D8%B1-%D9%85%D8%B1%D8%A7%D8%B3%D9%85-%D9%85%D8%B4%D8%AA%D8%B1%DA%A9-%D8%AF%D8%A7%D9%86%D8%B4-%D8%A2%D9%85%D9%88%D8%AE%D8%AA%DA%AF%DB%8C-%D8%AF%D8%A7%D9%86%D8%B4%D8%AC%D9%88%DB%8C%D8%A7%D9%86-%D9%86%DB%8C%D8%B1%D9%88%D9%87%D8%A7%DB%8C-%D9%85%D8%B3%D9%84%D8%AD',\n",
       "  'crawler_timestamp': 1696910765,\n",
       "  'ingestor_timestamp': 1696925864,\n",
       "  'summary': 'مراسم مشترک دانش\\u200cآموختگی دانشجویان نیروهای مسلح با حضور فرمانده کل قوا برگزار شد.',\n",
       "  'hostname': 'donya-e-eqtesad.com',\n",
       "  'parser_categories': ['سایت خوان دنیای اقتصاد'],\n",
       "  'keywords': ['مراسم مشترک دانشآموختگی دانشجویان دانشگاههای افسری نیروهای مسلح',\n",
       "   'پایگاه اطلاع رسانی دفتر مقام معظم رهبری',\n",
       "   'مراسم مشترک دانشآموختگی دانشجویان نیروهای مسلح',\n",
       "   'مراسم مشترک دانش\\u200cآموختگی دانشجویان نیروهای مسلح'],\n",
       "  'parser_keyword': ['رهبر انقلاب',\n",
       "   'مقام معظم رهبری',\n",
       "   'فرمانده کل قوا',\n",
       "   'مراسم مشترک دانش\\u200cآموختگی دانشجویان نیروهای مسلح'],\n",
       "  'author': 'سایت خوان دنیای اقتصاد',\n",
       "  'processed_body': 'حضور رهبر انقلاب در مراسم مشترک دانشآموختگی دانشجویان نیروهای مسلح\\nپایگاه اطلاع رسانی دفتر مقام معظم رهبری : مراسم مشترک دانشآموختگی دانشجویان نیروهای مسلح با حضور فرمانده کل قوا برگزار شد.\\nمراسم مشترک دانشآموختگی دانشجویان دانشگاههای افسری نیروهای مسلح صبح امروز (سهشنبه) با حضور حضرت آیتالله خامنهای فرمانده معظم کل قوا در دانشگاه امام علی(علیهالسلام) برگزار شد.\\nمشروح خبر و تصاویر تکمیلی متعاقباً منتشر میشود.\\nبخش\\n[\\nسایتخوان،\\n](/بخش-سایت-خوان-62)\\nصرفا بازتابدهنده اخبار رسانههای رسمی کشور است.',\n",
       "  'categories': ['politics'],\n",
       "  'ner_tags': [{'type': 'POST', 'entity': 'رهبر انقلاب'},\n",
       "   {'type': 'EVE',\n",
       "    'entity': 'مراسم مشترک دانش\\u200cآموختگی دانشجویان نیروهای مسلح'},\n",
       "   {'type': 'EVE',\n",
       "    'entity': 'مراسم مشترک دانش\\u200cآموختگی دانشجویان نیروهای مسلح'},\n",
       "   {'type': 'POST', 'entity': 'فرمانده کل قوا'},\n",
       "   {'type': 'POST', 'entity': 'رهبر انقلاب'},\n",
       "   {'type': 'EVE', 'entity': 'مراسم مشترک دانشآموختگی دانشجویان نیروهای مسلح'},\n",
       "   {'type': 'ORG', 'entity': 'پایگاه اطلاع رسانی دفتر مقام معظم رهبری'},\n",
       "   {'type': 'EVE', 'entity': 'مراسم مشترک دانشآموختگی دانشجویان نیروهای مسلح'},\n",
       "   {'type': 'POST', 'entity': 'فرمانده کل قوا'},\n",
       "   {'type': 'EVE',\n",
       "    'entity': 'مراسم مشترک دانشآموختگی دانشجویان دانشگاههای افسری نیروهای مسلح'},\n",
       "   {'type': 'PER', 'entity': 'خامنهای'},\n",
       "   {'type': 'POST', 'entity': 'فرمانده معظم کل قوا'},\n",
       "   {'type': 'FAC', 'entity': 'دانشگاه امام علی ( علیهالسلام )'},\n",
       "   {'type': 'ORG', 'entity': 'رسانههای رسمی کشور'}]}]"
      ]
     },
     "execution_count": 5,
     "metadata": {},
     "output_type": "execute_result"
    }
   ],
   "source": [
    "import json\n",
    "\n",
    "news_rdd = sc.textFile(\"news_data.jsonl\")\n",
    "\n",
    "# Parse JSON strings to Python dictionaries\n",
    "news_json = news_rdd.map(json.loads)\n",
    "del news_rdd\n",
    "\n",
    "# Applying reduceByKey() to remove duplicates by 'uid'\n",
    "dedup_rdd = news_json.map(lambda x: (x['uid'], x)).reduceByKey(lambda x, y: x).map(lambda x: x[1])\n",
    "del news_json\n",
    "dedup_rdd.take(1) # Show the first 5 elements of the deduplicated RDD"
   ]
  },
  {
   "cell_type": "code",
   "execution_count": 24,
   "id": "5e17185b",
   "metadata": {},
   "outputs": [
    {
     "name": "stderr",
     "output_type": "stream",
     "text": [
      "[Stage 47:==============================================>      (166 + 16) / 189]\r"
     ]
    },
    {
     "name": "stdout",
     "output_type": "stream",
     "text": [
      "62\n"
     ]
    },
    {
     "name": "stderr",
     "output_type": "stream",
     "text": [
      "                                                                                \r"
     ]
    }
   ],
   "source": [
    "import time\n",
    "from collections import Counter\n",
    "\n",
    "# Function to extract the most frequent entity name from 'ner_tags'\n",
    "def get_most_frequent_entity(ner_tags):\n",
    "    entities = [tag['entity'] for tag in ner_tags]\n",
    "    if entities:\n",
    "        return Counter(entities).most_common(1)[0][0]\n",
    "    else:\n",
    "        return None\n",
    "\n",
    "# Convert Unix timestamp to human-readable date and get the most frequent entity per day\n",
    "entity_per_day_rdd = dedup_rdd.filter(lambda x: x.get('ner_tags') and x.get('ner_tags') != None) \\\n",
    "                             .map(lambda news: (time.strftime('%Y-%m-%d', time.localtime(int(news['date_published']))),\n",
    "                                               get_most_frequent_entity(news['ner_tags'])))\n",
    "\n",
    "# Filter out entries with no entity information\n",
    "entity_per_day_rdd = entity_per_day_rdd.filter(lambda x: x[1] is not None)\n",
    "\n",
    "# Group by date and collect most frequent entity for each day\n",
    "grouped_entities_per_day = entity_per_day_rdd.groupByKey().mapValues(lambda entities: Counter(entities).most_common(1)[0][0])\n",
    "\n",
    "# Collect the data and sort by date\n",
    "sorted_entities_per_day = sorted(grouped_entities_per_day.collect(), key=lambda x: x[0])\n",
    "\n",
    "# Extract the most frequent entity for each day\n",
    "most_frequent_entities = [entity for date, entity in sorted_entities_per_day]\n",
    "\n",
    "# Print the list of most frequent entities sorted by date\n",
    "print(len(most_frequent_entities))\n"
   ]
  },
  {
   "cell_type": "code",
   "execution_count": 27,
   "id": "961ae06a",
   "metadata": {},
   "outputs": [
    {
     "name": "stdout",
     "output_type": "stream",
     "text": [
      "[('2023-09-06', 'ایران'), ('2023-09-07', 'ایران'), ('2023-09-08', 'ایران'), ('2023-09-09', 'ایران'), ('2023-09-10', 'ایران'), ('2023-09-11', 'ایران'), ('2023-09-12', 'ایران'), ('2023-09-13', 'ایران'), ('2023-09-14', 'ایران'), ('2023-09-15', 'ایران'), ('2023-09-16', 'ایران'), ('2023-09-17', 'ایران'), ('2023-09-18', 'ایران'), ('2023-09-19', 'ایران'), ('2023-09-20', 'ایران'), ('2023-09-21', 'ایران'), ('2023-09-22', 'ایران'), ('2023-09-23', 'ایران'), ('2023-09-24', 'ایران'), ('2023-09-25', 'ایران'), ('2023-09-26', 'ایران'), ('2023-09-27', 'ایران'), ('2023-09-28', 'ایران'), ('2023-09-29', 'ایران'), ('2023-09-30', 'ایران'), ('2023-10-01', 'ایران'), ('2023-10-02', 'ایران'), ('2023-10-03', 'ایران'), ('2023-10-04', 'ایران'), ('2023-10-05', 'ایران'), ('2023-10-06', 'ایران'), ('2023-10-07', 'ایران'), ('2023-10-08', 'ایران'), ('2023-10-09', 'ایران'), ('2023-10-10', 'ایران'), ('2023-10-11', 'غزه'), ('2023-10-12', 'ایران'), ('2023-10-13', 'غزه'), ('2023-10-14', 'غزه'), ('2023-10-15', 'غزه'), ('2023-10-16', 'غزه'), ('2023-10-17', 'غزه'), ('2023-10-18', 'غزه'), ('2023-10-19', 'غزه'), ('2023-10-20', 'غزه'), ('2023-10-21', 'غزه'), ('2023-10-22', 'غزه'), ('2023-10-23', 'غزه'), ('2023-10-24', 'غزه'), ('2023-10-25', 'غزه'), ('2023-10-26', 'غزه'), ('2023-10-27', 'غزه'), ('2023-10-28', 'غزه'), ('2023-10-29', 'غزه'), ('2023-10-30', 'غزه'), ('2023-10-31', 'غزه'), ('2023-11-01', 'غزه'), ('2023-11-02', 'غزه'), ('2023-11-03', 'غزه'), ('2023-11-04', 'غزه'), ('2023-11-05', 'غزه'), ('2023-11-06', 'غزه')]\n"
     ]
    }
   ],
   "source": [
    "print(sorted_entities_per_day)"
   ]
  },
  {
   "cell_type": "code",
   "execution_count": 29,
   "id": "54ab11c3",
   "metadata": {},
   "outputs": [
    {
     "name": "stderr",
     "output_type": "stream",
     "text": [
      "                                                                                \r"
     ]
    },
    {
     "data": {
      "image/png": "[encoded data removed]",
      "text/plain": [
       "<Figure size 1500x600 with 1 Axes>"
      ]
     },
     "metadata": {},
     "output_type": "display_data"
    }
   ],
   "source": [
    "import time\n",
    "from collections import Counter\n",
    "from bidi.algorithm import get_display\n",
    "from arabic_reshaper import reshape\n",
    "import matplotlib.pyplot as plt\n",
    "\n",
    "# Function to extract the most frequent entity name from 'ner_tags'\n",
    "def get_most_frequent_entity(ner_tags):\n",
    "    entities = [tag['entity'] for tag in ner_tags]\n",
    "    if entities:\n",
    "        return Counter(entities).most_common(1)[0][0]\n",
    "    else:\n",
    "        return None\n",
    "\n",
    "# Convert Unix timestamp to human-readable date and get the most frequent entity per day\n",
    "entity_per_day_rdd = dedup_rdd.filter(lambda x: x.get('ner_tags') and x.get('ner_tags') != None).map(lambda news: (time.strftime('%Y-%m-%d', time.localtime(int(news['date_published']))),\n",
    "                                               get_most_frequent_entity(news['ner_tags'])))\n",
    "\n",
    "# Filter out entries with no entity information\n",
    "entity_per_day_rdd = entity_per_day_rdd.filter(lambda x: x[1] is not None)\n",
    "\n",
    "# Count occurrences of each entity per day\n",
    "entity_counts_per_day_rdd = entity_per_day_rdd.map(lambda x: (x, 1)).reduceByKey(lambda a, b: a + b)\n",
    "\n",
    "# Aggregate counts for the same date\n",
    "entity_counts_per_day_rdd = entity_counts_per_day_rdd.map(lambda x: (x[0][0], x[1]))\n",
    "\n",
    "# Collect the data and sort by date\n",
    "entity_counts_per_day = sorted(entity_counts_per_day_rdd.collect())\n",
    "\n",
    "# Plot the bar chart with entity names on top of each bar\n",
    "dates, entity_counts = zip(*entity_counts_per_day)\n",
    "plt.figure(figsize=(15,6))\n",
    "bars = plt.bar(dates, entity_counts)\n",
    "plt.xticks(rotation=90)\n",
    "plt.xlabel('Date')\n",
    "plt.ylabel('Entity Count')\n",
    "plt.title('Most Frequent Entity Count Per Day')\n",
    "plt.grid()\n",
    "plt.show()"
   ]
  },
  {
   "cell_type": "markdown",
   "id": "37b3eec5",
   "metadata": {},
   "source": [
    "## Classification of News"
   ]
  },
  {
   "cell_type": "code",
   "execution_count": 4,
   "id": "7c856476",
   "metadata": {},
   "outputs": [
    {
     "name": "stderr",
     "output_type": "stream",
     "text": [
      "[Stage 7:==================================================>   (176 + 13) / 189]\r"
     ]
    },
    {
     "name": "stdout",
     "output_type": "stream",
     "text": [
      "The unique categories are : ['health', 'sports', 'religious', 'politics', 'science_and_technology', 'economy', 'culture', 'security', 'social', 'military']\n"
     ]
    },
    {
     "name": "stderr",
     "output_type": "stream",
     "text": [
      "                                                                                \r"
     ]
    }
   ],
   "source": [
    "categories = dedup_rdd.filter(lambda x: 'categories' in x and x['categories']).map(lambda x: x['categories'][0]).distinct().collect()\n",
    "\n",
    "print(f\"The unique categories are : {categories}\")"
   ]
  },
  {
   "cell_type": "code",
   "execution_count": 3,
   "id": "409a031d",
   "metadata": {},
   "outputs": [
    {
     "data": {
      "text/plain": [
       "[('پایگاه اطلاع رسانی دفتر مقام معظم رهبری مراسم مشترک دانشآموختگی دانشجویان نیروهای مسلح حضور فرمانده قوا برگزار مراسم مشترک دانشآموختگی دانشجویان دانشگاههای افسری نیروهای مسلح صبح سهشنبه حضور حضرت آیتالله خامنهای فرمانده معظم قوا دانشگاه امام علی علیهالسلام برگزار مشروح خبر تصاویر تکمیلی متعاقباً منتشر',\n",
       "  'politics'),\n",
       " ('رضا درویش مدیرعامل باشگاه پرسپولیس ادعای عجیبی بازگشت یاسین سلمانی بازی مطرح رضا درویش مدیرعامل باشگاه پرسپولیس ادعای عجیبی بازگشت یاسین سلمانی بازی مطرح گزارش عرشه آنلاین مدیرعامل باشگاه پرسپولیس ادعای عجیبی خصوص اهدای کاپ سوپرجام باشگاه پیگیریها خلاف مسأله میدهد سازمان لیگ پایان دیدار پرسپولیس گلگهر سیرجان جام سوپرکاپ دلیل قهرمانی سرخپوشان لیگ برتر جام حذفی مراسم تیم اهدا پرسپولیسیها پنجمین کاپ سوپرجام ببرند حالی رضا درویش مدیرعامل باشگاه پرسپولیس شب برنامه تلویزیونی ادعای عجیبی برنامه تلویزیونی خط تلفنی سازمان لیگ میخواست جام تاکسی بفرستد دلیلی جشن میخواستیم روحیه تیم هواداران بدهیم مراسم برگزار پیگیریهای مشخص ادعای درویش صحت سازمان لیگ برگزاری مراسم برنامه سازمان لیگ فوتبال سالهای برگزاری جشنهایی مراسم اهدای جام برگزار برگزاری مراسم محل سازمان لیگ کاپ سوپرجام پرسپولیسیها اهدا موضوع درخواست حمیدرضا گرشاسبی مدیرعامل وقت پرسپولیس قهرمانیها جام مراسم تیم قهرمان اهدا پیگیریهایی سازمان لیگ مشخص برگزاری مراسم برنامهریزی قرار جام مراسم پرسپولیسیها اهدا مراسم تأخیر نمیافتاد ابتدای لیگ باشگاه پرسپولیس درخواست جام هفتههای ابتدایی تیم اهدا مشخص مدیرعامل باشگاه دلیل ادعای عجیبی مطرح شب تأیید پارگی رباط صلیبی یاسین سلمانی ادعای عجیب مدعی بازیکن سه ماه آماده بازی حالی آمادگی مصدومیتی ماه',\n",
       "  'sports'),\n",
       " ('جنبش حماس خواهان جمعه بسیج عمومی سرتاسر جهان عرب اسلام گزارش ایسنا نقل شبکه خبری روسیا الیوم جنبش حماس بیانیهای جوانان انقلابی کرانه باختری قدس راستای تأکید وحدت سرنوشت مسیر خیابانها نیروهای اشغالگر شهرکنشینان حمله مکانی درگیر حماس ساکنان اراضی اشغالی الاقصی تجمع مانع یورش شهرک نشینان جنبش ملتهای عربی اسلامی فلسطینیهای آواره کشورها تجمعات گسترده مرزهای فلسطین همبستگی فلسطین قدس الاقصی جنبش آزادگان جهان آماده بسیج عمومی همبستگی فراخواند حماس تأکید جمعه جمعه طوفان الاقصی بسیج عمومی جهان عربی اسلامی همبستگی ملت مقاومت فلسطین حمایت مشارکت رسوا جنایتهای رژیم صهیونیستی ناکام گذاشتن طرحهای متجاوزانه درگیریها اعضای مقاومت فلسطین نیروهای رژیم صهیونیستی شهرکهای اطراف غزه ادامه مقاومت واکنش حملات ارتش رژیم صهیونیستی غیرنظامیان غزه تلآویو قدس عسقلان اسدود شهرهای اراضی اشغالی هدف حملات موشکی قرار عملیات طوفان الاقصی شنبه گردانهای القسام رژیم صهیونیستی آغاز صهیونیست کشته تن زخمی شدهاند صدها فلسطینی حملات متجاوزانه رژیم صهیونیستی نوار غزه شهید زخمی شدهاند',\n",
       "  'politics')]"
      ]
     },
     "execution_count": 3,
     "metadata": {},
     "output_type": "execute_result"
    }
   ],
   "source": [
    "import re\n",
    "\n",
    "# Define a function to remove useless characters including '\\n', '\\u200c', and '\\\\n'\n",
    "def remove_useless_characters(text):\n",
    "    # Remove special characters, digits, and unwanted unicode characters\n",
    "    text = re.sub(r'\\\\|\\\\n|\\\\u200c|\\n|پایان پیام|عکس|[^آ-ی\\s]', ' ', text)\n",
    "\n",
    "    # Define a regular expression pattern that matches one or more spaces\n",
    "    pattern = re.compile(r\" +\")\n",
    "    # Apply the pattern to the text and replace the matches with a single space\n",
    "    text = pattern.sub(\" \", text)\n",
    "    return text\n",
    "\n",
    "# Define a list of Farsi stop words\n",
    "def load_stop_words(file_paths):\n",
    "    stop_words_set = set()\n",
    "    for file_path in file_paths:\n",
    "        with open(file_path, 'r', encoding='utf-8') as file:\n",
    "            stop_words_set.update(file.read().splitlines())\n",
    "    return stop_words_set\n",
    "\n",
    "\n",
    "# Apply the function to the news_rdd\n",
    "title_category_rdd = dedup_rdd.filter(lambda x: 'categories' in x and 'body' in x and x['categories']).map(lambda x: (x['body'], x['categories'][0]))\n",
    "\n",
    "title_category_rdd = title_category_rdd.map(lambda x: (remove_useless_characters(x[0]), x[1]))\n",
    "\n",
    "# List of paths to your stop words files\n",
    "stop_words_files = ['verbal.txt', 'persian.txt', 'short.txt', 'chars.txt', 'nonverbal.txt']\n",
    "\n",
    "# Load stop words from files\n",
    "stop_words = load_stop_words(stop_words_files)\n",
    "\n",
    "title_category_rdd = title_category_rdd.map(lambda x: (\" \".join(filter(lambda w: w not in stop_words, x[0].split())), x[1]))\n",
    "\n",
    "title_category_rdd.take(3)"
   ]
  },
  {
   "cell_type": "code",
   "execution_count": 4,
   "id": "7c1b1f24",
   "metadata": {},
   "outputs": [
    {
     "name": "stderr",
     "output_type": "stream",
     "text": [
      "                                                                                \r"
     ]
    },
    {
     "name": "stdout",
     "output_type": "stream",
     "text": [
      "+--------------------+--------------------+-----+--------------------+--------------------+--------------------+\n",
      "|               title|            category|label|               words|        raw_features|            features|\n",
      "+--------------------+--------------------+-----+--------------------+--------------------+--------------------+\n",
      "|پایگاه اطلاع رسان...|            politics|  2.0|[پایگاه, اطلاع, ر...|(10000,[902,1130,...|(10000,[902,1130,...|\n",
      "|رضا درویش مدیرعام...|              sports|  3.0|[رضا, درویش, مدیر...|(10000,[96,275,28...|(10000,[96,275,28...|\n",
      "|جنبش حماس خواهان ...|            politics|  2.0|[جنبش, حماس, خواه...|(10000,[77,96,110...|(10000,[77,96,110...|\n",
      "|بازار سرمایه فعال...|             economy|  0.0|[بازار, سرمایه, ف...|(10000,[96,192,23...|(10000,[96,192,23...|\n",
      "|گزارش ایسنا نماین...|            politics|  2.0|[گزارش, ایسنا, نم...|(10000,[96,156,22...|(10000,[96,156,22...|\n",
      "|بلند شماره روایتی...|             culture|  4.0|[بلند, شماره, روا...|(10000,[46,69,96,...|(10000,[46,69,96,...|\n",
      "|گزارش خبرگزاری مه...|science_and_techn...|  6.0|[گزارش, خبرگزاری,...|(10000,[1,72,77,9...|(10000,[1,72,77,9...|\n",
      "|رئیس دادگستری ماز...|              social|  1.0|[رئیس, دادگستری, ...|(10000,[79,274,71...|(10000,[79,274,71...|\n",
      "|شروع عملیات طوفان...|             economy|  0.0|[شروع, عملیات, طو...|(10000,[85,95,96,...|(10000,[85,95,96,...|\n",
      "|سخنگوی قوه قضاییه...|              social|  1.0|[سخنگوی, قوه, قضا...|(10000,[95,96,125...|(10000,[95,96,125...|\n",
      "|سردار علی پاشامحم...|             economy|  0.0|[سردار, علی, پاشا...|(10000,[167,298,4...|(10000,[167,298,4...|\n",
      "|ایلیا حیفیا مجموع...|             culture|  4.0|[ایلیا, حیفیا, مج...|(10000,[1,25,96,9...|(10000,[1,25,96,9...|\n",
      "|مراسم تشییع پیکر ...|             culture|  4.0|[مراسم, تشییع, پی...|(10000,[96,281,46...|(10000,[96,281,46...|\n",
      "|رئیس مرکز تحقیقات...|              social|  1.0|[رئیس, مرکز, تحقی...|(10000,[96,169,32...|(10000,[96,169,32...|\n",
      "|گزارش جام جم آنلا...|              social|  1.0|[گزارش, جام, جم, ...|(10000,[96,119,33...|(10000,[96,119,33...|\n",
      "|هافبک بازیساز پرس...|              sports|  3.0|[هافبک, بازیساز, ...|(10000,[15,96,103...|(10000,[15,96,103...|\n",
      "|نماینده دانشآموزا...|             culture|  4.0|[نماینده, دانشآمو...|(10000,[16,94,96,...|(10000,[16,94,96,...|\n",
      "|وزیر خارجه سفر لب...|            politics|  2.0|[وزیر, خارجه, سفر...|(10000,[96,110,34...|(10000,[96,110,34...|\n",
      "|فال شمع فال فال ت...|             economy|  0.0|[فال, شمع, فال, ف...|(10000,[0,1,19,43...|(10000,[0,1,19,43...|\n",
      "|علیرضا رضایی بازی...|              sports|  3.0|[علیرضا, رضایی, ب...|(10000,[1,96,281,...|(10000,[1,96,281,...|\n",
      "+--------------------+--------------------+-----+--------------------+--------------------+--------------------+\n",
      "only showing top 20 rows\n",
      "\n"
     ]
    }
   ],
   "source": [
    "from pyspark.ml.feature import HashingTF, IDF, Tokenizer, StringIndexer\n",
    "\n",
    "# Convert the RDD into a DataFrame\n",
    "title_category_df = title_category_rdd.toDF([\"title\", \"category\"])\n",
    "\n",
    "indexer = StringIndexer(inputCol=\"category\", outputCol=\"label\")\n",
    "\n",
    "# Prepare the data\n",
    "tokenizer = Tokenizer(inputCol=\"title\", outputCol=\"words\")\n",
    "hashingTF = HashingTF(inputCol=\"words\", outputCol=\"raw_features\", numFeatures=10000)\n",
    "data = indexer.fit(title_category_df).transform(title_category_df)\n",
    "# Apply the tokenizer transformer\n",
    "data = tokenizer.transform(data)\n",
    "data = hashingTF.transform(data)\n",
    "# TF-IDF vectorization of articles\n",
    "idf = IDF(inputCol=\"raw_features\", outputCol=\"features\")\n",
    "idf_vectorizer = idf.fit(data)\n",
    "data = idf_vectorizer.transform(data)\n",
    "\n",
    "data.show()\n",
    "\n",
    "data = data.select('features', 'label')"
   ]
  },
  {
   "cell_type": "code",
   "execution_count": 5,
   "id": "6e93be06",
   "metadata": {},
   "outputs": [],
   "source": [
    "del title_category_df\n",
    "del title_category_rdd"
   ]
  },
  {
   "cell_type": "code",
   "execution_count": 6,
   "id": "da44c4b2",
   "metadata": {},
   "outputs": [
    {
     "name": "stderr",
     "output_type": "stream",
     "text": [
      "                                                                                \r"
     ]
    },
    {
     "name": "stdout",
     "output_type": "stream",
     "text": [
      "Training Dataset Count: 406923\n"
     ]
    },
    {
     "name": "stderr",
     "output_type": "stream",
     "text": [
      "[Stage 22:=================================================>   (177 + 12) / 189]\r"
     ]
    },
    {
     "name": "stdout",
     "output_type": "stream",
     "text": [
      "Test Dataset Count: 135649\n"
     ]
    },
    {
     "name": "stderr",
     "output_type": "stream",
     "text": [
      "                                                                                \r"
     ]
    }
   ],
   "source": [
    "(train, test) = data.randomSplit([0.75, 0.25], seed = 202)\n",
    "print(\"Training Dataset Count: \" + str(train.count()))\n",
    "print(\"Test Dataset Count: \" + str(test.count()))"
   ]
  },
  {
   "cell_type": "code",
   "execution_count": null,
   "id": "59b91c8a",
   "metadata": {},
   "outputs": [],
   "source": [
    "from pyspark.ml.classification import LogisticRegression\n",
    "from pyspark.ml.evaluation import MulticlassClassificationEvaluator\n",
    "\n",
    "lr = LogisticRegression(featuresCol='features',\n",
    "                        labelCol='label',\n",
    "                        family=\"multinomial\",\n",
    "                        regParam=0.3,\n",
    "                        elasticNetParam=0,\n",
    "                        maxIter=50)\n",
    "\n",
    "lrModel = lr.fit(train)\n",
    "del train"
   ]
  },
  {
   "cell_type": "code",
   "execution_count": 9,
   "id": "5b0ca8b6",
   "metadata": {},
   "outputs": [
    {
     "name": "stderr",
     "output_type": "stream",
     "text": [
      "24/02/05 06:52:28 WARN DAGScheduler: Broadcasting large task binary with size 1047.9 KiB\n",
      "[Stage 201:>                                                        (0 + 1) / 1]\r"
     ]
    },
    {
     "name": "stdout",
     "output_type": "stream",
     "text": [
      "+--------------------+----------+-----+\n",
      "|         probability|prediction|label|\n",
      "+--------------------+----------+-----+\n",
      "|[0.43529226439635...|       0.0|  2.0|\n",
      "|[0.10414441054242...|       1.0|  1.0|\n",
      "|[0.21475233428591...|       1.0|  1.0|\n",
      "|[0.31288095348502...|       1.0|  1.0|\n",
      "|[0.27430103680319...|       1.0|  1.0|\n",
      "|[0.44270762716058...|       0.0|  1.0|\n",
      "|[0.43980579633832...|       1.0|  1.0|\n",
      "|[0.87539365414969...|       0.0|  0.0|\n",
      "|[0.47851554727533...|       0.0|  0.0|\n",
      "|[0.44543264235116...|       0.0|  5.0|\n",
      "|[0.19570421893707...|       1.0|  6.0|\n",
      "|[2.35172757421602...|       3.0|  3.0|\n",
      "|[1.76108522329332...|       2.0|  2.0|\n",
      "|[0.49261500957815...|       0.0|  1.0|\n",
      "|[0.16749559231725...|       2.0|  2.0|\n",
      "|[0.94364771922404...|       0.0|  4.0|\n",
      "|[0.22444749298890...|       1.0|  1.0|\n",
      "|[0.26006443320589...|       1.0|  0.0|\n",
      "|[0.62832667232219...|       0.0|  0.0|\n",
      "|[0.12278664721630...|       2.0|  2.0|\n",
      "+--------------------+----------+-----+\n",
      "only showing top 20 rows\n",
      "\n"
     ]
    },
    {
     "name": "stderr",
     "output_type": "stream",
     "text": [
      "                                                                                \r"
     ]
    }
   ],
   "source": [
    "predictions = lrModel.transform(test)\n",
    "\n",
    "del test\n",
    "\n",
    "predictions.select('probability','prediction', 'label').show()"
   ]
  },
  {
   "cell_type": "code",
   "execution_count": 10,
   "id": "fa3f5296",
   "metadata": {},
   "outputs": [
    {
     "name": "stderr",
     "output_type": "stream",
     "text": [
      "24/02/05 06:52:38 WARN DAGScheduler: Broadcasting large task binary with size 1056.0 KiB\n",
      "[Stage 203:===================================================> (184 + 5) / 189]\r"
     ]
    },
    {
     "name": "stdout",
     "output_type": "stream",
     "text": [
      "Test-set Accuracy is :  0.6380619390892938\n"
     ]
    },
    {
     "name": "stderr",
     "output_type": "stream",
     "text": [
      "                                                                                \r"
     ]
    }
   ],
   "source": [
    "evaluator = MulticlassClassificationEvaluator(predictionCol=\"prediction\")\n",
    "print(\"Test-set Accuracy is : \", evaluator.evaluate(predictions))"
   ]
  }
 ],
 "metadata": {
  "kernelspec": {
   "display_name": "Python 3 (ipykernel)",
   "language": "python",
   "name": "python3"
  },
  "language_info": {
   "codemirror_mode": {
    "name": "ipython",
    "version": 3
   },
   "file_extension": ".py",
   "mimetype": "text/x-python",
   "name": "python",
   "nbconvert_exporter": "python",
   "pygments_lexer": "ipython3",
   "version": "3.10.12"
  }
 },
 "nbformat": 4,
 "nbformat_minor": 5
}
